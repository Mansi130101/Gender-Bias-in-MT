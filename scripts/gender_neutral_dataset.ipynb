{
  "nbformat": 4,
  "nbformat_minor": 0,
  "metadata": {
    "colab": {
      "provenance": []
    },
    "kernelspec": {
      "name": "python3",
      "display_name": "Python 3"
    },
    "language_info": {
      "name": "python"
    }
  },
  "cells": [
    {
      "cell_type": "code",
      "execution_count": null,
      "metadata": {
        "id": "frZHOmKfACq-"
      },
      "outputs": [],
      "source": [
        "# Extracting all gender neutral sentences from [huggingface.co/datasets/md_gender_bias]\n",
        "!pip install datasets\n",
        "from datasets import load_dataset\n",
        "import pandas as pd"
      ]
    },
    {
      "cell_type": "code",
      "source": [
        "def remove_start_end(example):\n",
        "     example['text'] = example['text'].split('> ')[1]\n",
        "     example['text'] = example['text'].split(' <')[0]\n",
        "     return example"
      ],
      "metadata": {
        "id": "cx1IUm3LKLXs"
      },
      "execution_count": 89,
      "outputs": []
    },
    {
      "cell_type": "code",
      "source": [
        "subset = [\"convai2_inferred\", \"funpedia\", \"image_chat\",\n",
        "        \"light_inferred\", \"opensubtitles_inferred\", \"wizard\"]\n",
        "\n",
        "all_text = []\n",
        "for subdata in subset:\n",
        "  dataset = load_dataset(\"md_gender_bias\", subdata)\n",
        "  if subdata in [\"convai2_inferred\", \"light_inferred\", \"opensubtitles_inferred\"]:\n",
        "    filtered = dataset.filter(lambda example: example['ternary_label']==2)\n",
        "  if subdata in [\"funpedia\", \"wizard\"]:\n",
        "    filtered = dataset.filter(lambda example: example['gender']==0)\n",
        "  if subdata==\"image_chat\":\n",
        "    filtered = dataset.filter(lambda example: example['male']==example['female']) # both true & false\n",
        "    '''ie. false: no gender bias in sentence\n",
        "    true: sentence contains both male & female genders'''\n",
        "    filtered = filtered.rename_column(\"caption\",\"text\") # renaming for uniformity\n",
        "    filtered = filtered.map(remove_start_end) # preprocessing text column\n",
        "\n",
        "  for split, data in filtered.items():\n",
        "    all_text.extend(filtered[split]['text'])\n",
        "    # data.to_csv(f\"{subdata}-{split}.csv\", index = None)\n",
        "    '''uncomment to save the various subdata to individual csv files'''\n",
        "\n",
        "df = pd.DataFrame({'text': all_text})\n",
        "df.to_csv('all_gender_neutral_data.csv')"
      ],
      "metadata": {
        "id": "HG5QhNvGH75E"
      },
      "execution_count": 90,
      "outputs": []
    }
  ]
}
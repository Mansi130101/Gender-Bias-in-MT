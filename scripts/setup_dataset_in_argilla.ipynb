{
  "nbformat": 4,
  "nbformat_minor": 0,
  "metadata": {
    "colab": {
      "provenance": []
    },
    "kernelspec": {
      "name": "python3",
      "display_name": "Python 3"
    },
    "language_info": {
      "name": "python"
    }
  },
  "cells": [
    {
      "cell_type": "markdown",
      "source": [
        "\n",
        "# Setup Argilla with Hugging Face\n",
        "\n"
      ],
      "metadata": {
        "id": "PSezLFocBEy5"
      }
    },
    {
      "cell_type": "code",
      "execution_count": null,
      "metadata": {
        "id": "qqVrbAuy_twA"
      },
      "outputs": [],
      "source": [
        "!pip install argilla huggingface_hub datasets -qqq"
      ]
    },
    {
      "cell_type": "code",
      "source": [
        "!huggingface-cli login"
      ],
      "metadata": {
        "colab": {
          "base_uri": "https://localhost:8080/"
        },
        "id": "RNQ35bi5Lh3D",
        "outputId": "f397d198-d55d-4574-a440-c84584ef1d71"
      },
      "execution_count": null,
      "outputs": [
        {
          "output_type": "stream",
          "name": "stdout",
          "text": [
            "\n",
            "    _|    _|  _|    _|    _|_|_|    _|_|_|  _|_|_|  _|      _|    _|_|_|      _|_|_|_|    _|_|      _|_|_|  _|_|_|_|\n",
            "    _|    _|  _|    _|  _|        _|          _|    _|_|    _|  _|            _|        _|    _|  _|        _|\n",
            "    _|_|_|_|  _|    _|  _|  _|_|  _|  _|_|    _|    _|  _|  _|  _|  _|_|      _|_|_|    _|_|_|_|  _|        _|_|_|\n",
            "    _|    _|  _|    _|  _|    _|  _|    _|    _|    _|    _|_|  _|    _|      _|        _|    _|  _|        _|\n",
            "    _|    _|    _|_|      _|_|_|    _|_|_|  _|_|_|  _|      _|    _|_|_|      _|        _|    _|    _|_|_|  _|_|_|_|\n",
            "    \n",
            "    A token is already saved on your machine. Run `huggingface-cli whoami` to get more information or `huggingface-cli logout` if you want to log out.\n",
            "    Setting a new token will erase the existing one.\n",
            "    To login, `huggingface_hub` requires a token generated from https://huggingface.co/settings/tokens .\n",
            "Token: \n",
            "Add token as git credential? (Y/n) n\n",
            "Token is valid (permission: write).\n",
            "Your token has been saved to /root/.cache/huggingface/token\n",
            "Login successful\n"
          ]
        }
      ]
    },
    {
      "cell_type": "code",
      "source": [
        "import argilla as rg\n",
        "import pandas as pd"
      ],
      "metadata": {
        "id": "YzSCWxaMBMIq"
      },
      "execution_count": null,
      "outputs": []
    },
    {
      "cell_type": "markdown",
      "source": [
        "running Argilla using [Hugging Face Spaces](https://docs.argilla.io/en/latest/getting_started/installation/deployments/huggingface-spaces.html), init the Argilla client with the `ARGILLA_API_URL` and`ARGILLA_API_KEY`:"
      ],
      "metadata": {
        "id": "SVRm0GMDBQDs"
      }
    },
    {
      "cell_type": "code",
      "source": [
        "# Replace api_url with the url to your HF Spaces URL if using Spaces\n",
        "# Replace api_key if you configured a custom API key\n",
        "rg.init(\n",
        "    api_url=r\"https://mansiuniyal-indic-translation.hf.space\",\n",
        "    api_key=\"admin.apikey\"\n",
        ")"
      ],
      "metadata": {
        "id": "T_tkWvwYBXtR",
        "colab": {
          "base_uri": "https://localhost:8080/"
        },
        "outputId": "eb266e2e-3f8e-4084-b32a-3553997d7478"
      },
      "execution_count": null,
      "outputs": [
        {
          "output_type": "stream",
          "name": "stderr",
          "text": [
            "/usr/local/lib/python3.10/dist-packages/argilla/client/client.py:165: UserWarning: No workspace configuration was detected. To work with Argilla datasets, specify a valid workspace name on `rg.init` or set it up through the `rg.set_workspace` function.\n",
            "  warnings.warn(\n"
          ]
        }
      ]
    },
    {
      "cell_type": "markdown",
      "source": [
        "# Create Dataset\n",
        "\n",
        "[create a FeedbackDataset](https://docs.argilla.io/en/latest/guides/llms/practical_guides/create_dataset.html) with custom configuration for collecting feedback."
      ],
      "metadata": {
        "id": "-Bb3MI8iH_Fe"
      }
    },
    {
      "cell_type": "code",
      "source": [
        "# can be edited\n",
        "lang = [\"hindi\",\"punjabi\",\"gujrati\",\"bengali\",\"marwadi\",\"tamil\",\"kannad\",\"assami\"]\n",
        "ds_emotion = rg.FeedbackDataset(\n",
        "    fields=[\n",
        "        rg.TextField(name=\"text\")\n",
        "    ],\n",
        "    questions=[\n",
        "        rg.LabelQuestion(name=\"translated-lang\", labels=lang),\n",
        "        rg.TextQuestion(name=\"translated-text\")\n",
        "    ],\n",
        "    guidelines=\"English gender neutral dataset: translation into various Indic langugaes.\"\n",
        ")\n"
      ],
      "metadata": {
        "id": "K_cWJQnXIBKq"
      },
      "execution_count": null,
      "outputs": []
    },
    {
      "cell_type": "code",
      "source": [
        "file_path = \"/content/3k_gender_neutral_data.csv\"\n",
        "\n",
        "dataset = pd.read_csv(file_path)\n",
        "dataset.loc[0,'text']"
      ],
      "metadata": {
        "id": "Szn4Z3HBq0L0",
        "outputId": "3b55a68f-654a-4c1d-f1ee-6224e6625393",
        "colab": {
          "base_uri": "https://localhost:8080/",
          "height": 35
        }
      },
      "execution_count": null,
      "outputs": [
        {
          "output_type": "execute_result",
          "data": {
            "text/plain": [
              "'wow ! i do love a good horror movie . loving this cooler weather'"
            ],
            "application/vnd.google.colaboratory.intrinsic+json": {
              "type": "string"
            }
          },
          "metadata": {},
          "execution_count": 6
        }
      ]
    },
    {
      "cell_type": "code",
      "source": [
        "records = []\n",
        "for row in range(len(dataset)):\n",
        "  record = rg.FeedbackRecord(\n",
        "      fields={\"text\": dataset.loc[row,'text']}\n",
        "  )\n",
        "  records.append(record)\n",
        "\n",
        "ds_emotion.add_records(records)\n",
        "ds_emotion.push_to_argilla(name=\"translation\", workspace=\"admin\")"
      ],
      "metadata": {
        "colab": {
          "base_uri": "https://localhost:8080/"
        },
        "id": "Cr20lX-HKphT",
        "outputId": "b54d1bc5-0d51-4e54-c1f2-ae6d2deb7d62"
      },
      "execution_count": null,
      "outputs": [
        {
          "output_type": "stream",
          "name": "stderr",
          "text": [
            "Pushing records to Argilla...: 100%|██████████| 102/102 [00:18<00:00,  5.40it/s]\n"
          ]
        },
        {
          "output_type": "execute_result",
          "data": {
            "text/plain": [
              "<FeedbackDataset id=ec9ff51c-e95b-4b61-8e69-883cc2ffc33c name=translation workspace=Workspace(id=8c2e2958-9953-4aed-a9a3-399538ae5044, name=admin, inserted_at=2023-10-08 05:28:07, updated_at=2023-10-08 05:28:07) url=https://mansiuniyal-indic-translation.hf.space/dataset/ec9ff51c-e95b-4b61-8e69-883cc2ffc33c/annotation-mode fields=[TextField(id=UUID('6e2b48c5-2861-4046-8196-25e36c13830f'), name='text', title='Text', required=True, type='text', settings={'type': 'text', 'use_markdown': False}, use_markdown=False)] questions=[LabelQuestion(id=UUID('e8c62cdc-b793-4af7-a137-ea241b1738dc'), name='translated-lang', title='Translated-lang', description=None, required=True, type='label_selection', settings={'type': 'label_selection', 'options': [{'value': 'hindi', 'text': 'hindi'}, {'value': 'punjabi', 'text': 'punjabi'}, {'value': 'gujrati', 'text': 'gujrati'}, {'value': 'bengali', 'text': 'bengali'}, {'value': 'marwadi', 'text': 'marwadi'}, {'value': 'tamil', 'text': 'tamil'}, {'value': 'kannad', 'text': 'kannad'}, {'value': 'assami', 'text': 'assami'}], 'visible_options': None}, labels=['hindi', 'punjabi', 'gujrati', 'bengali', 'marwadi', 'tamil', 'kannad', 'assami'], visible_labels=None), TextQuestion(id=UUID('c59c4797-ec58-41a8-b35e-e26c9a24923a'), name='translated-text', title='Translated-text', description=None, required=True, type='text', settings={'type': 'text', 'use_markdown': False}, use_markdown=False)] guidelines=English gender neutral dataset: translation into various Indic langugaes.>"
            ]
          },
          "metadata": {},
          "execution_count": 7
        }
      ]
    },
    {
      "cell_type": "markdown",
      "source": [
        "Load your annotations and safely store your annotations to the hub only after annotation is completed!"
      ],
      "metadata": {
        "id": "iOa3tL3uMOcg"
      }
    },
    {
      "cell_type": "markdown",
      "source": [
        "# Load dataset\n",
        "\n",
        "save to hugging face spaces and then reloading from the Hugging Face hub"
      ],
      "metadata": {
        "id": "vaG9p-5VH7ua"
      }
    },
    {
      "cell_type": "code",
      "source": [
        "ds_emotion_with_annotations = rg.FeedbackDataset.from_argilla(name=\"translation\", workspace=\"admin\")\n",
        "ds_emotion_with_annotations.push_to_huggingface(repo_id=\"mansiuniyal/translation\")"
      ],
      "metadata": {
        "id": "6OfiPrvkLuR3"
      },
      "execution_count": null,
      "outputs": []
    },
    {
      "cell_type": "code",
      "source": [
        "ds_emotion = rg.FeedbackDataset.from_huggingface(\"mansiuniyal/translation\", split=\"train[:100]\")\n",
        "ds_emotion.push_to_argilla(name=\"translate\", workspace=\"admin\")"
      ],
      "metadata": {
        "id": "B-a97IZzH-qd"
      },
      "execution_count": null,
      "outputs": []
    }
  ]
}